{
 "cells": [
  {
   "cell_type": "code",
   "execution_count": 16,
   "metadata": {},
   "outputs": [],
   "source": [
    "import pandas as pd\n",
    "import numpy as np\n",
    "import matplotlib.pyplot as plt"
   ]
  },
  {
   "cell_type": "code",
   "execution_count": 4,
   "metadata": {},
   "outputs": [],
   "source": [
    "x = 'SHUBHANG^YADAV.asc'\n"
   ]
  },
  {
   "cell_type": "code",
   "execution_count": 11,
   "metadata": {},
   "outputs": [],
   "source": [
    "a = np.loadtxt('SHUBHANG^YADAV.asc',skiprows=10)"
   ]
  },
  {
   "cell_type": "code",
   "execution_count": 13,
   "metadata": {},
   "outputs": [
    {
     "data": {
      "text/plain": [
       "(21,)"
      ]
     },
     "execution_count": 13,
     "metadata": {},
     "output_type": "execute_result"
    }
   ],
   "source": [
    "a[0].shape"
   ]
  },
  {
   "cell_type": "code",
   "execution_count": 15,
   "metadata": {},
   "outputs": [
    {
     "data": {
      "text/plain": [
       "(85249, 21)"
      ]
     },
     "execution_count": 15,
     "metadata": {},
     "output_type": "execute_result"
    }
   ],
   "source": [
    "a.shape"
   ]
  },
  {
   "cell_type": "code",
   "execution_count": 19,
   "metadata": {},
   "outputs": [
    {
     "data": {
      "text/plain": [
       "[<matplotlib.lines.Line2D at 0x186fd623308>]"
      ]
     },
     "execution_count": 19,
     "metadata": {},
     "output_type": "execute_result"
    },
    {
     "data": {
      "image/png": "[encoded data removed]",
      "text/plain": [
       "<Figure size 432x288 with 1 Axes>"
      ]
     },
     "metadata": {
      "needs_background": "light"
     },
     "output_type": "display_data"
    }
   ],
   "source": [
    "plt.plot(a[1234])"
   ]
  },
  {
   "cell_type": "code",
   "execution_count": 20,
   "metadata": {},
   "outputs": [],
   "source": [
    "columns1 = [\"TR 00\", \"TR 01\", \"TR 02\", \"TR 03\", \"TR 04\", \"TR 05\", \"TR 06\", \"TR 07\", \"TR 08\", \"TR 09\", \"TR 10\", \"TR 11\", \"TR 12\", \"TR 13\", \"TR 14\", \"TR 15\", \"TR 16\", \"TR 17\", \"TR 18\", \"TR 19\", \"TR 20\"]\n",
    "columns2 = [\"Fp1-RF\", \"Fp2-RF\", \"F7-RF\", \"F3-RF\", \"Fz-RF\", \"F4-RF\", \"F8-RF\", \"T3-RF\", \"C3-RF\", \"Cz-RF\", \"C4-RF\", \"T4-RF\", \"T5-RF\", \"P3-RF\", \"Pz-RF\", \"P4-RF\", \"T6-RF\", \"O1-RF\", \"O2-RF\", \"A1-RF\", \"A2-RF\"]"
   ]
  },
  {
   "cell_type": "code",
   "execution_count": 21,
   "metadata": {},
   "outputs": [
    {
     "name": "stdout",
     "output_type": "stream",
     "text": [
      "[[   0.49   -5.27   -1.19 ...   -0.62  -31.94   -8.48]\n",
      " [  -0.72  -17.25   -4.55 ...    3.81 -102.12  -31.07]\n",
      " [   0.25  -13.04   -2.55 ...    4.38  -71.98  -10.64]\n",
      " ...\n",
      " [   5.3     3.61    2.99 ...   12.67    1.1     3.58]\n",
      " [   6.26    2.61    7.35 ...    8.94    3.18    1.4 ]\n",
      " [   5.88    3.29    6.53 ...    2.74    4.04    4.8 ]]\n"
     ]
    }
   ],
   "source": [
    "print(a[0::2])"
   ]
  },
  {
   "cell_type": "code",
   "execution_count": 22,
   "metadata": {},
   "outputs": [
    {
     "name": "stdout",
     "output_type": "stream",
     "text": [
      "[[  0.61 -14.64  -3.28 ...   0.24 -90.32 -26.77]\n",
      " [ -1.45 -14.43  -3.61 ...   6.46 -78.01 -17.78]\n",
      " [  2.55 -15.72  -4.49 ...  -1.49 -73.4  -15.97]\n",
      " ...\n",
      " [  5.21   6.05   0.67 ...  10.97  -1.11   2.49]\n",
      " [  6.17   1.64   6.29 ...  12.35   2.86   3.09]\n",
      " [  5.54   3.94   6.35 ...   5.08   2.67   1.62]]\n"
     ]
    }
   ],
   "source": [
    "print(a[1::2])"
   ]
  },
  {
   "cell_type": "code",
   "execution_count": 27,
   "metadata": {},
   "outputs": [],
   "source": [
    "tr_df = pd.DataFrame(a[0::2],columns=columns1)"
   ]
  },
  {
   "cell_type": "code",
   "execution_count": 29,
   "metadata": {},
   "outputs": [
    {
     "data": {
      "text/html": [
       "<div>\n",
       "<style scoped>\n",
       "    .dataframe tbody tr th:only-of-type {\n",
       "        vertical-align: middle;\n",
       "    }\n",
       "\n",
       "    .dataframe tbody tr th {\n",
       "        vertical-align: top;\n",
       "    }\n",
       "\n",
       "    .dataframe thead th {\n",
       "        text-align: right;\n",
       "    }\n",
       "</style>\n",
       "<table border=\"1\" class=\"dataframe\">\n",
       "  <thead>\n",
       "    <tr style=\"text-align: right;\">\n",
       "      <th></th>\n",
       "      <th>TR 00</th>\n",
       "      <th>TR 01</th>\n",
       "      <th>TR 02</th>\n",
       "      <th>TR 03</th>\n",
       "      <th>TR 04</th>\n",
       "      <th>TR 05</th>\n",
       "      <th>TR 06</th>\n",
       "      <th>TR 07</th>\n",
       "      <th>TR 08</th>\n",
       "      <th>TR 09</th>\n",
       "      <th>...</th>\n",
       "      <th>TR 11</th>\n",
       "      <th>TR 12</th>\n",
       "      <th>TR 13</th>\n",
       "      <th>TR 14</th>\n",
       "      <th>TR 15</th>\n",
       "      <th>TR 16</th>\n",
       "      <th>TR 17</th>\n",
       "      <th>TR 18</th>\n",
       "      <th>TR 19</th>\n",
       "      <th>TR 20</th>\n",
       "    </tr>\n",
       "  </thead>\n",
       "  <tbody>\n",
       "    <tr>\n",
       "      <th>0</th>\n",
       "      <td>0.49</td>\n",
       "      <td>-5.27</td>\n",
       "      <td>-1.19</td>\n",
       "      <td>-2.76</td>\n",
       "      <td>-4.53</td>\n",
       "      <td>-1.44</td>\n",
       "      <td>-5.80</td>\n",
       "      <td>-3.33</td>\n",
       "      <td>-0.78</td>\n",
       "      <td>1.44</td>\n",
       "      <td>...</td>\n",
       "      <td>-4.16</td>\n",
       "      <td>-0.29</td>\n",
       "      <td>-2.51</td>\n",
       "      <td>2.35</td>\n",
       "      <td>2.02</td>\n",
       "      <td>-2.68</td>\n",
       "      <td>-4.86</td>\n",
       "      <td>-0.62</td>\n",
       "      <td>-31.94</td>\n",
       "      <td>-8.48</td>\n",
       "    </tr>\n",
       "    <tr>\n",
       "      <th>1</th>\n",
       "      <td>-0.72</td>\n",
       "      <td>-17.25</td>\n",
       "      <td>-4.55</td>\n",
       "      <td>-13.31</td>\n",
       "      <td>-17.09</td>\n",
       "      <td>-11.35</td>\n",
       "      <td>-16.55</td>\n",
       "      <td>-7.83</td>\n",
       "      <td>-6.68</td>\n",
       "      <td>-0.66</td>\n",
       "      <td>...</td>\n",
       "      <td>-13.73</td>\n",
       "      <td>3.55</td>\n",
       "      <td>-7.95</td>\n",
       "      <td>5.74</td>\n",
       "      <td>8.68</td>\n",
       "      <td>-6.83</td>\n",
       "      <td>-5.02</td>\n",
       "      <td>3.81</td>\n",
       "      <td>-102.12</td>\n",
       "      <td>-31.07</td>\n",
       "    </tr>\n",
       "    <tr>\n",
       "      <th>2</th>\n",
       "      <td>0.25</td>\n",
       "      <td>-13.04</td>\n",
       "      <td>-2.55</td>\n",
       "      <td>-19.51</td>\n",
       "      <td>-26.68</td>\n",
       "      <td>-21.62</td>\n",
       "      <td>-14.49</td>\n",
       "      <td>-8.95</td>\n",
       "      <td>-15.41</td>\n",
       "      <td>-15.16</td>\n",
       "      <td>...</td>\n",
       "      <td>1.13</td>\n",
       "      <td>-1.86</td>\n",
       "      <td>-12.88</td>\n",
       "      <td>-4.68</td>\n",
       "      <td>4.88</td>\n",
       "      <td>3.28</td>\n",
       "      <td>-11.72</td>\n",
       "      <td>4.38</td>\n",
       "      <td>-71.98</td>\n",
       "      <td>-10.64</td>\n",
       "    </tr>\n",
       "    <tr>\n",
       "      <th>3</th>\n",
       "      <td>2.86</td>\n",
       "      <td>-18.53</td>\n",
       "      <td>-2.11</td>\n",
       "      <td>-23.77</td>\n",
       "      <td>-30.50</td>\n",
       "      <td>-25.75</td>\n",
       "      <td>-13.43</td>\n",
       "      <td>-4.32</td>\n",
       "      <td>-20.61</td>\n",
       "      <td>-29.80</td>\n",
       "      <td>...</td>\n",
       "      <td>-17.85</td>\n",
       "      <td>3.52</td>\n",
       "      <td>-17.28</td>\n",
       "      <td>-13.69</td>\n",
       "      <td>-5.09</td>\n",
       "      <td>-4.19</td>\n",
       "      <td>-2.08</td>\n",
       "      <td>-1.62</td>\n",
       "      <td>-62.98</td>\n",
       "      <td>-24.21</td>\n",
       "    </tr>\n",
       "    <tr>\n",
       "      <th>4</th>\n",
       "      <td>-2.47</td>\n",
       "      <td>-12.44</td>\n",
       "      <td>-5.14</td>\n",
       "      <td>-20.26</td>\n",
       "      <td>-25.29</td>\n",
       "      <td>-20.14</td>\n",
       "      <td>-14.05</td>\n",
       "      <td>-11.05</td>\n",
       "      <td>-19.35</td>\n",
       "      <td>-24.33</td>\n",
       "      <td>...</td>\n",
       "      <td>-7.95</td>\n",
       "      <td>-0.63</td>\n",
       "      <td>-16.79</td>\n",
       "      <td>-12.89</td>\n",
       "      <td>-2.04</td>\n",
       "      <td>2.48</td>\n",
       "      <td>-6.77</td>\n",
       "      <td>-0.11</td>\n",
       "      <td>-58.67</td>\n",
       "      <td>-10.53</td>\n",
       "    </tr>\n",
       "  </tbody>\n",
       "</table>\n",
       "<p>5 rows × 21 columns</p>\n",
       "</div>"
      ],
      "text/plain": [
       "   TR 00  TR 01  TR 02  TR 03  TR 04  TR 05  TR 06  TR 07  TR 08  TR 09  ...  \\\n",
       "0   0.49  -5.27  -1.19  -2.76  -4.53  -1.44  -5.80  -3.33  -0.78   1.44  ...   \n",
       "1  -0.72 -17.25  -4.55 -13.31 -17.09 -11.35 -16.55  -7.83  -6.68  -0.66  ...   \n",
       "2   0.25 -13.04  -2.55 -19.51 -26.68 -21.62 -14.49  -8.95 -15.41 -15.16  ...   \n",
       "3   2.86 -18.53  -2.11 -23.77 -30.50 -25.75 -13.43  -4.32 -20.61 -29.80  ...   \n",
       "4  -2.47 -12.44  -5.14 -20.26 -25.29 -20.14 -14.05 -11.05 -19.35 -24.33  ...   \n",
       "\n",
       "   TR 11  TR 12  TR 13  TR 14  TR 15  TR 16  TR 17  TR 18   TR 19  TR 20  \n",
       "0  -4.16  -0.29  -2.51   2.35   2.02  -2.68  -4.86  -0.62  -31.94  -8.48  \n",
       "1 -13.73   3.55  -7.95   5.74   8.68  -6.83  -5.02   3.81 -102.12 -31.07  \n",
       "2   1.13  -1.86 -12.88  -4.68   4.88   3.28 -11.72   4.38  -71.98 -10.64  \n",
       "3 -17.85   3.52 -17.28 -13.69  -5.09  -4.19  -2.08  -1.62  -62.98 -24.21  \n",
       "4  -7.95  -0.63 -16.79 -12.89  -2.04   2.48  -6.77  -0.11  -58.67 -10.53  \n",
       "\n",
       "[5 rows x 21 columns]"
      ]
     },
     "execution_count": 29,
     "metadata": {},
     "output_type": "execute_result"
    }
   ],
   "source": [
    "tr_df.head()"
   ]
  },
  {
   "cell_type": "code",
   "execution_count": 30,
   "metadata": {},
   "outputs": [],
   "source": [
    "fp_df = pd.DataFrame(a[1::2],columns=columns2)"
   ]
  },
  {
   "cell_type": "code",
   "execution_count": 33,
   "metadata": {},
   "outputs": [
    {
     "data": {
      "text/html": [
       "<div>\n",
       "<style scoped>\n",
       "    .dataframe tbody tr th:only-of-type {\n",
       "        vertical-align: middle;\n",
       "    }\n",
       "\n",
       "    .dataframe tbody tr th {\n",
       "        vertical-align: top;\n",
       "    }\n",
       "\n",
       "    .dataframe thead th {\n",
       "        text-align: right;\n",
       "    }\n",
       "</style>\n",
       "<table border=\"1\" class=\"dataframe\">\n",
       "  <thead>\n",
       "    <tr style=\"text-align: right;\">\n",
       "      <th></th>\n",
       "      <th>Fp1-RF</th>\n",
       "      <th>Fp2-RF</th>\n",
       "      <th>F7-RF</th>\n",
       "      <th>F3-RF</th>\n",
       "      <th>Fz-RF</th>\n",
       "      <th>F4-RF</th>\n",
       "      <th>F8-RF</th>\n",
       "      <th>T3-RF</th>\n",
       "      <th>C3-RF</th>\n",
       "      <th>Cz-RF</th>\n",
       "      <th>...</th>\n",
       "      <th>T4-RF</th>\n",
       "      <th>T5-RF</th>\n",
       "      <th>P3-RF</th>\n",
       "      <th>Pz-RF</th>\n",
       "      <th>P4-RF</th>\n",
       "      <th>T6-RF</th>\n",
       "      <th>O1-RF</th>\n",
       "      <th>O2-RF</th>\n",
       "      <th>A1-RF</th>\n",
       "      <th>A2-RF</th>\n",
       "    </tr>\n",
       "  </thead>\n",
       "  <tbody>\n",
       "    <tr>\n",
       "      <th>0</th>\n",
       "      <td>0.61</td>\n",
       "      <td>-14.64</td>\n",
       "      <td>-3.28</td>\n",
       "      <td>-5.84</td>\n",
       "      <td>-12.84</td>\n",
       "      <td>-5.66</td>\n",
       "      <td>-15.98</td>\n",
       "      <td>-9.19</td>\n",
       "      <td>-2.99</td>\n",
       "      <td>3.32</td>\n",
       "      <td>...</td>\n",
       "      <td>-12.99</td>\n",
       "      <td>0.55</td>\n",
       "      <td>-6.66</td>\n",
       "      <td>6.32</td>\n",
       "      <td>6.42</td>\n",
       "      <td>-6.96</td>\n",
       "      <td>-9.53</td>\n",
       "      <td>0.24</td>\n",
       "      <td>-90.32</td>\n",
       "      <td>-26.77</td>\n",
       "    </tr>\n",
       "    <tr>\n",
       "      <th>1</th>\n",
       "      <td>-1.45</td>\n",
       "      <td>-14.43</td>\n",
       "      <td>-3.61</td>\n",
       "      <td>-20.30</td>\n",
       "      <td>-20.17</td>\n",
       "      <td>-16.24</td>\n",
       "      <td>-11.94</td>\n",
       "      <td>-4.29</td>\n",
       "      <td>-11.11</td>\n",
       "      <td>-7.48</td>\n",
       "      <td>...</td>\n",
       "      <td>-2.75</td>\n",
       "      <td>3.40</td>\n",
       "      <td>-8.84</td>\n",
       "      <td>1.39</td>\n",
       "      <td>8.35</td>\n",
       "      <td>-0.81</td>\n",
       "      <td>-4.77</td>\n",
       "      <td>6.46</td>\n",
       "      <td>-78.01</td>\n",
       "      <td>-17.78</td>\n",
       "    </tr>\n",
       "    <tr>\n",
       "      <th>2</th>\n",
       "      <td>2.55</td>\n",
       "      <td>-15.72</td>\n",
       "      <td>-4.49</td>\n",
       "      <td>-25.98</td>\n",
       "      <td>-31.85</td>\n",
       "      <td>-26.76</td>\n",
       "      <td>-16.62</td>\n",
       "      <td>-10.72</td>\n",
       "      <td>-19.69</td>\n",
       "      <td>-26.90</td>\n",
       "      <td>...</td>\n",
       "      <td>-11.32</td>\n",
       "      <td>-3.32</td>\n",
       "      <td>-17.68</td>\n",
       "      <td>-12.19</td>\n",
       "      <td>-2.89</td>\n",
       "      <td>-2.29</td>\n",
       "      <td>-11.19</td>\n",
       "      <td>-1.49</td>\n",
       "      <td>-73.40</td>\n",
       "      <td>-15.97</td>\n",
       "    </tr>\n",
       "    <tr>\n",
       "      <th>3</th>\n",
       "      <td>0.89</td>\n",
       "      <td>-16.38</td>\n",
       "      <td>0.47</td>\n",
       "      <td>-16.70</td>\n",
       "      <td>-27.08</td>\n",
       "      <td>-21.89</td>\n",
       "      <td>-12.80</td>\n",
       "      <td>-4.38</td>\n",
       "      <td>-17.80</td>\n",
       "      <td>-24.52</td>\n",
       "      <td>...</td>\n",
       "      <td>-10.49</td>\n",
       "      <td>6.95</td>\n",
       "      <td>-13.75</td>\n",
       "      <td>-10.51</td>\n",
       "      <td>-0.63</td>\n",
       "      <td>3.06</td>\n",
       "      <td>2.04</td>\n",
       "      <td>3.02</td>\n",
       "      <td>-54.92</td>\n",
       "      <td>-21.70</td>\n",
       "    </tr>\n",
       "    <tr>\n",
       "      <th>4</th>\n",
       "      <td>-3.59</td>\n",
       "      <td>-8.91</td>\n",
       "      <td>-8.96</td>\n",
       "      <td>-18.79</td>\n",
       "      <td>-23.59</td>\n",
       "      <td>-18.91</td>\n",
       "      <td>-12.95</td>\n",
       "      <td>-12.74</td>\n",
       "      <td>-26.14</td>\n",
       "      <td>-27.48</td>\n",
       "      <td>...</td>\n",
       "      <td>-7.49</td>\n",
       "      <td>-7.38</td>\n",
       "      <td>-23.87</td>\n",
       "      <td>-18.60</td>\n",
       "      <td>-6.66</td>\n",
       "      <td>-5.21</td>\n",
       "      <td>-15.58</td>\n",
       "      <td>-6.85</td>\n",
       "      <td>-62.86</td>\n",
       "      <td>-9.35</td>\n",
       "    </tr>\n",
       "  </tbody>\n",
       "</table>\n",
       "<p>5 rows × 21 columns</p>\n",
       "</div>"
      ],
      "text/plain": [
       "   Fp1-RF  Fp2-RF  F7-RF  F3-RF  Fz-RF  F4-RF  F8-RF  T3-RF  C3-RF  Cz-RF  \\\n",
       "0    0.61  -14.64  -3.28  -5.84 -12.84  -5.66 -15.98  -9.19  -2.99   3.32   \n",
       "1   -1.45  -14.43  -3.61 -20.30 -20.17 -16.24 -11.94  -4.29 -11.11  -7.48   \n",
       "2    2.55  -15.72  -4.49 -25.98 -31.85 -26.76 -16.62 -10.72 -19.69 -26.90   \n",
       "3    0.89  -16.38   0.47 -16.70 -27.08 -21.89 -12.80  -4.38 -17.80 -24.52   \n",
       "4   -3.59   -8.91  -8.96 -18.79 -23.59 -18.91 -12.95 -12.74 -26.14 -27.48   \n",
       "\n",
       "   ...  T4-RF  T5-RF  P3-RF  Pz-RF  P4-RF  T6-RF  O1-RF  O2-RF  A1-RF  A2-RF  \n",
       "0  ... -12.99   0.55  -6.66   6.32   6.42  -6.96  -9.53   0.24 -90.32 -26.77  \n",
       "1  ...  -2.75   3.40  -8.84   1.39   8.35  -0.81  -4.77   6.46 -78.01 -17.78  \n",
       "2  ... -11.32  -3.32 -17.68 -12.19  -2.89  -2.29 -11.19  -1.49 -73.40 -15.97  \n",
       "3  ... -10.49   6.95 -13.75 -10.51  -0.63   3.06   2.04   3.02 -54.92 -21.70  \n",
       "4  ...  -7.49  -7.38 -23.87 -18.60  -6.66  -5.21 -15.58  -6.85 -62.86  -9.35  \n",
       "\n",
       "[5 rows x 21 columns]"
      ]
     },
     "execution_count": 33,
     "metadata": {},
     "output_type": "execute_result"
    }
   ],
   "source": [
    "fp_df.head()"
   ]
  },
  {
   "cell_type": "code",
   "execution_count": null,
   "metadata": {},
   "outputs": [],
   "source": []
  }
 ],
 "metadata": {
  "kernelspec": {
   "display_name": "Python 3",
   "language": "python",
   "name": "python3"
  },
  "language_info": {
   "codemirror_mode": {
    "name": "ipython",
    "version": 3
   },
   "file_extension": ".py",
   "mimetype": "text/x-python",
   "name": "python",
   "nbconvert_exporter": "python",
   "pygments_lexer": "ipython3",
   "version": "3.7.9"
  }
 },
 "nbformat": 4,
 "nbformat_minor": 4
}
